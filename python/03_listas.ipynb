{
 "cells": [
  {
   "cell_type": "markdown",
   "metadata": {},
   "source": [
    "<div style=\"text-align: center;\">\n",
    "  <img src=\"https://github.com/Hack-io-Data/Imagenes/blob/main/01-LogosHackio/logo_celeste@4x.png?raw=true\" alt=\"logo hack(io)\" />\n",
    "</div>"
   ]
  },
  {
   "cell_type": "markdown",
   "metadata": {},
   "source": [
    "\n",
    "#### 1. Declara una lista llamada `numeros` y asigna a ella los valores 15, 20, 60, 23, 40, 74, 48, 19, 54, 67, 93.\n"
   ]
  },
  {
   "cell_type": "code",
   "execution_count": null,
   "metadata": {},
   "outputs": [],
   "source": [
    "numbers = [15, 20, 60, 23, 40, 74, 48, 19, 54, 67, 93]"
   ]
  },
  {
   "cell_type": "markdown",
   "metadata": {},
   "source": [
    "#### 2. Declara una lista llamada `letras` y asigna a ella los valores 'G', 'B', 'S', 's', 'D', 'z', 'd', 'Z', 'A', 'O', 'D'.\n"
   ]
  },
  {
   "cell_type": "code",
   "execution_count": null,
   "metadata": {},
   "outputs": [],
   "source": [
    "letters = ['G', 'B', 'S', 's', 'D', 'z', 'd', 'Z', 'A', 'O', 'D']"
   ]
  },
  {
   "cell_type": "markdown",
   "metadata": {},
   "source": [
    "#### 3. Imprime en pantalla el valor de cada lista utilizando la función print()."
   ]
  },
  {
   "cell_type": "code",
   "execution_count": 2,
   "metadata": {},
   "outputs": [
    {
     "name": "stdout",
     "output_type": "stream",
     "text": [
      "Lista de números:  [15, 20, 60, 23, 40, 74, 48, 19, 54, 67, 93]\n",
      "Lista de letras:  ['G', 'B', 'S', 's', 'D', 'z', 'd', 'Z', 'A', 'O', 'D']\n"
     ]
    }
   ],
   "source": [
    "numbers = [15, 20, 60, 23, 40, 74, 48, 19, 54, 67, 93]\n",
    "letters = ['G', 'B', 'S', 's', 'D', 'z', 'd', 'Z', 'A', 'O', 'D']\n",
    "print(\"Lista de números: \", numbers)\n",
    "print(\"Lista de letras: \", letters)"
   ]
  },
  {
   "cell_type": "markdown",
   "metadata": {},
   "source": [
    "#### 4. Crea dos variables `longitud_numeros` y `longitud_letras` que correspondan con las longitudes de las listas creadas previamente. "
   ]
  },
  {
   "cell_type": "code",
   "execution_count": 4,
   "metadata": {},
   "outputs": [
    {
     "name": "stdout",
     "output_type": "stream",
     "text": [
      "Cantidad de elementos en la lista de números:  11\n",
      "Cantidad de elementos en la lista de letras:  10\n"
     ]
    }
   ],
   "source": [
    "numbers = [15, 20, 60, 23, 40, 74, 48, 19, 54, 67, 93]\n",
    "letters = ['G', 'B', 'S', 's', 'D', 'z', 'd', 'Z', 'A', 'O', 'D']\n",
    "length_numbers = len(numeros)\n",
    "length_letters = len(letters)\n",
    "print(\"Cantidad de elementos en la lista de números: \", length_numbers)\n",
    "print(\"Cantidad de elementos en la lista de letras: \", length_letters)"
   ]
  },
  {
   "cell_type": "markdown",
   "metadata": {},
   "source": [
    "#### 5. ¿Cuál es el máximo y mínimo de la lista  `numeros`?"
   ]
  },
  {
   "cell_type": "code",
   "execution_count": 5,
   "metadata": {},
   "outputs": [
    {
     "name": "stdout",
     "output_type": "stream",
     "text": [
      "Número mayor en la lista de números:  93\n",
      "Letra mayor en la lista de letras:  z\n"
     ]
    }
   ],
   "source": [
    "numbers = [15, 20, 60, 23, 40, 74, 48, 19, 54, 67, 93]\n",
    "max_in_numbers = max(numbers)\n",
    "\n",
    "print(\"Número mayor en la lista de números: \", max_in_numbers)\n"
   ]
  },
  {
   "cell_type": "markdown",
   "metadata": {},
   "source": [
    "#### 6. ¿Cuál es el máximo y mínimo de la lista  `letras`? "
   ]
  },
  {
   "cell_type": "code",
   "execution_count": 9,
   "metadata": {},
   "outputs": [
    {
     "name": "stdout",
     "output_type": "stream",
     "text": [
      "Letra mayor en la lista de letras:  z\n"
     ]
    }
   ],
   "source": [
    "letters = ['G', 'B', 'S', 's', 'D', 'z', 'd', 'Z', 'A', 'O', 'D']\n",
    "max_in_letters = max(letters)\n",
    "print(\"Letra mayor en la lista de letras: \", max_in_letters)"
   ]
  },
  {
   "cell_type": "markdown",
   "metadata": {},
   "source": [
    "#### 7. Selecciona los primeros 5 elementos de la lista `numeros`."
   ]
  },
  {
   "cell_type": "code",
   "execution_count": 10,
   "metadata": {},
   "outputs": [
    {
     "name": "stdout",
     "output_type": "stream",
     "text": [
      "Primeros 5 números de la lista de números:  [15, 20, 60, 23, 40]\n"
     ]
    }
   ],
   "source": [
    "numbers = [15, 20, 60, 23, 40, 74, 48, 19, 54, 67, 93]\n",
    "first_5_numbers = numbers[:5]\n",
    "print(\"Primeros 5 números de la lista de números: \", first_5_numbers)"
   ]
  },
  {
   "cell_type": "markdown",
   "metadata": {},
   "source": [
    "#### 8. Selecciona los ultimos 3 elementos de la lista `letras`."
   ]
  },
  {
   "cell_type": "code",
   "execution_count": null,
   "metadata": {},
   "outputs": [],
   "source": [
    "letters = ['G', 'B', 'S', 's', 'D', 'z', 'd', 'Z', 'A', 'O', 'D']\n",
    "last_5_letters = letters[-5:]\n",
    "print(\"Últimas 5 letras de la lista de letras: \", last_5_letters)"
   ]
  },
  {
   "cell_type": "markdown",
   "metadata": {},
   "source": [
    "#### 9. Selecciona los elementos que estaán en la lista `letras` que están en posiciones pares (posiciones de Python). "
   ]
  },
  {
   "cell_type": "code",
   "execution_count": 11,
   "metadata": {},
   "outputs": [
    {
     "name": "stdout",
     "output_type": "stream",
     "text": [
      "Letras en posición par de la lista de letras:  ['B', 's', 'z', 'Z', 'O']\n"
     ]
    }
   ],
   "source": [
    "letters = ['G', 'B', 'S', 's', 'D', 'z', 'd', 'Z', 'A', 'O', 'D']\n",
    "even_position_letters = letters[1::2]\n",
    "print(\"Letras en posición par de la lista de letras: \", even_position_letters)"
   ]
  },
  {
   "cell_type": "markdown",
   "metadata": {},
   "source": [
    "#### 10. Selecciona del tercer al décimo elemento de la lista `numeros` seleccionalos de 2 en 2."
   ]
  },
  {
   "cell_type": "code",
   "execution_count": 12,
   "metadata": {},
   "outputs": [
    {
     "name": "stdout",
     "output_type": "stream",
     "text": [
      "Números en de la posicion 3 a la 10 no incluida seleccionados de a 2:  [60, 40, 48, 54]\n"
     ]
    }
   ],
   "source": [
    "numbers = [15, 20, 60, 23, 40, 74, 48, 19, 54, 67, 93]\n",
    "selected_numbers = numbers[2:10:2]\n",
    "print(\"Números en de la posicion 3 a la 10 no incluida seleccionados de a 2: \", selected_numbers)\n"
   ]
  },
  {
   "cell_type": "markdown",
   "metadata": {},
   "source": [
    "#### 11. Ordena la lista  `numeros` de menor a mayor sobreescribiendo el valor de la variable original. "
   ]
  },
  {
   "cell_type": "code",
   "execution_count": 15,
   "metadata": {},
   "outputs": [
    {
     "name": "stdout",
     "output_type": "stream",
     "text": [
      "Lista de números ordenada de forma ascendente:  [15, 19, 20, 23, 40, 48, 54, 60, 67, 74, 93]\n"
     ]
    }
   ],
   "source": [
    "numbers = [15, 20, 60, 23, 40, 74, 48, 19, 54, 67, 93]\n",
    "numbers.sort()\n",
    "print(\"Lista de números ordenada de forma ascendente: \", numbers)"
   ]
  },
  {
   "cell_type": "markdown",
   "metadata": {},
   "source": [
    "#### 12. ¿Cuántas veces aparece la letra 'd' en la lista de `letras`?"
   ]
  },
  {
   "cell_type": "code",
   "execution_count": 21,
   "metadata": {},
   "outputs": [
    {
     "name": "stdout",
     "output_type": "stream",
     "text": [
      "Cantidad de letras 'd' en la lista de letras:  1\n"
     ]
    }
   ],
   "source": [
    "letters = ['G', 'B', 'S', 's', 'D', 'z', 'd', 'Z', 'A', 'O', 'D']\n",
    "d_cuantity = letters.count('d')\n",
    "print(\"Cantidad de letras 'd' en la lista de letras: \", d_cuantity)\n"
   ]
  },
  {
   "cell_type": "markdown",
   "metadata": {},
   "source": [
    "#### 13. Elimina el último elemento de la lista de `numeros`."
   ]
  },
  {
   "cell_type": "code",
   "execution_count": 17,
   "metadata": {},
   "outputs": [
    {
     "name": "stdout",
     "output_type": "stream",
     "text": [
      "Último número de la lista de números:  93\n"
     ]
    }
   ],
   "source": [
    "last_number = numbers.pop()\n",
    "print(\"Último número de la lista de números: \", last_number)"
   ]
  },
  {
   "cell_type": "markdown",
   "metadata": {},
   "source": [
    "#### 14. Agrega un 2 al final de la lista de `numeros`."
   ]
  },
  {
   "cell_type": "code",
   "execution_count": 18,
   "metadata": {},
   "outputs": [
    {
     "name": "stdout",
     "output_type": "stream",
     "text": [
      "Lista de números con un nuevo número al final:  [15, 19, 20, 23, 40, 48, 54, 60, 67, 74, 2]\n"
     ]
    }
   ],
   "source": [
    "numbers.append(2)\n",
    "print(\"Lista de números con un nuevo número al final: \", numbers)"
   ]
  },
  {
   "cell_type": "markdown",
   "metadata": {},
   "source": [
    "#### 15. Inserta una T en la posicion 3 de la lista de `letras`. "
   ]
  },
  {
   "cell_type": "code",
   "execution_count": 22,
   "metadata": {},
   "outputs": [
    {
     "name": "stdout",
     "output_type": "stream",
     "text": [
      "Lista de letras con una nueva letra en la posición 3:  ['G', 'B', 'S', 'T', 's', 'D', 'z', 'd', 'Z', 'A', 'O', 'D']\n"
     ]
    }
   ],
   "source": [
    "letters.insert(3, 'T')\n",
    "print(\"Lista de letras con una nueva letra en la posición 3: \", letters)\n"
   ]
  },
  {
   "cell_type": "markdown",
   "metadata": {},
   "source": [
    "#### 16. Elimina el primer elemento cuyo valor es \"D\" de la lista de `letras`. "
   ]
  },
  {
   "cell_type": "code",
   "execution_count": 23,
   "metadata": {},
   "outputs": [
    {
     "name": "stdout",
     "output_type": "stream",
     "text": [
      "Lista de letras con la primera letra 'D' eliminada:  ['G', 'B', 'S', 'T', 's', 'z', 'd', 'Z', 'A', 'O', 'D']\n"
     ]
    }
   ],
   "source": [
    "\n",
    "letters.remove('D')\n",
    "print(\"Lista de letras con la primera letra 'D' eliminada: \", letters)"
   ]
  },
  {
   "cell_type": "markdown",
   "metadata": {},
   "source": [
    "#### 17. Invierte el orden de la lista de `letras`. "
   ]
  },
  {
   "cell_type": "code",
   "execution_count": 24,
   "metadata": {},
   "outputs": [
    {
     "name": "stdout",
     "output_type": "stream",
     "text": [
      "Lista de letras con el orden invertido:  ['D', 'O', 'A', 'Z', 'd', 'z', 's', 'T', 'S', 'B', 'G']\n"
     ]
    }
   ],
   "source": [
    "\n",
    "letters.reverse()\n",
    "print(\"Lista de letras con el orden invertido: \", letters)"
   ]
  },
  {
   "cell_type": "markdown",
   "metadata": {},
   "source": [
    "#### 18. Genera una lista vacía y añade la lista `numeros` y `letras` a la lista vacía. "
   ]
  },
  {
   "cell_type": "code",
   "execution_count": 27,
   "metadata": {},
   "outputs": [
    {
     "name": "stdout",
     "output_type": "stream",
     "text": [
      "Lista de números y letras concatenadas:  [15, 19, 20, 23, 40, 48, 54, 60, 67, 74, 2, 'D', 'O', 'A', 'Z', 'd', 'z', 's', 'T', 'S', 'B', 'G', 'D', 'O', 'A', 'Z', 'd', 'z', 's', 'T', 'S', 'B', 'G']\n"
     ]
    }
   ],
   "source": [
    "new_list = numbers + letters\n",
    "\n",
    "print(\"Lista de números y letras concatenadas: \", new_list)\n"
   ]
  },
  {
   "cell_type": "code",
   "execution_count": null,
   "metadata": {},
   "outputs": [],
   "source": []
  }
 ],
 "metadata": {
  "kernelspec": {
   "display_name": "hackio",
   "language": "python",
   "name": "python3"
  },
  "language_info": {
   "codemirror_mode": {
    "name": "ipython",
    "version": 3
   },
   "file_extension": ".py",
   "mimetype": "text/x-python",
   "name": "python",
   "nbconvert_exporter": "python",
   "pygments_lexer": "ipython3",
   "version": "3.11.1"
  }
 },
 "nbformat": 4,
 "nbformat_minor": 2
}
