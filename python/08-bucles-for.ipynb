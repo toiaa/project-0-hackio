{
 "cells": [
  {
   "cell_type": "markdown",
   "metadata": {},
   "source": [
    "<div style=\"text-align: center;\">\n",
    "  <img src=\"https://github.com/Hack-io-Data/Imagenes/blob/main/01-LogosHackio/logo_celeste@4x.png?raw=true\" alt=\"logo hack(io)\" />\n",
    "</div>"
   ]
  },
  {
   "cell_type": "markdown",
   "metadata": {},
   "source": [
    "####  1. Genera una lista de números del 0 al 4 y luego imprime cada número en la lista usando un `bucle for`. "
   ]
  },
  {
   "cell_type": "code",
   "execution_count": 1,
   "metadata": {},
   "outputs": [
    {
     "name": "stdout",
     "output_type": "stream",
     "text": [
      "[0, 1, 2, 3, 4]\n",
      "0\n",
      "1\n",
      "2\n",
      "3\n",
      "4\n"
     ]
    }
   ],
   "source": [
    "\n",
    "numeros = list(range(5))\n",
    "print(numeros)\n",
    "\n",
    "for numero in numeros:\n",
    "    print(numero)"
   ]
  },
  {
   "cell_type": "markdown",
   "metadata": {},
   "source": [
    "#### 2. Itera sobre una lista de frutas y muestra cada fruta en mayúsculas. \n"
   ]
  },
  {
   "cell_type": "code",
   "execution_count": 4,
   "metadata": {},
   "outputs": [
    {
     "name": "stdout",
     "output_type": "stream",
     "text": [
      "['manzana', 'banana', 'cereza', 'durazno', 'pera']\n",
      "MANZANA\n",
      "BANANA\n",
      "CEREZA\n",
      "DURAZNO\n",
      "PERA\n"
     ]
    }
   ],
   "source": [
    "frutas = ['manzana', 'banana', 'cereza', 'durazno', 'pera']\n",
    "print(frutas)\n",
    "\n",
    "for fruta in frutas:\n",
    "    print(fruta.upper())\n",
    "    \n"
   ]
  },
  {
   "cell_type": "markdown",
   "metadata": {},
   "source": [
    "####  3. Genera un bucle while que imprima los números del 0 al 4. \n"
   ]
  },
  {
   "cell_type": "code",
   "execution_count": 6,
   "metadata": {},
   "outputs": [
    {
     "name": "stdout",
     "output_type": "stream",
     "text": [
      "0\n",
      "1\n",
      "2\n",
      "3\n",
      "4\n"
     ]
    }
   ],
   "source": [
    "numero = 0\n",
    "\n",
    "while numero <= 4: \n",
    "    print(numero)\n",
    "    numero += 1"
   ]
  },
  {
   "cell_type": "markdown",
   "metadata": {},
   "source": [
    "#### 4. Genera un bucle del 0 al 9, pero que se detenga en el 5.\n"
   ]
  },
  {
   "cell_type": "code",
   "execution_count": 8,
   "metadata": {},
   "outputs": [
    {
     "name": "stdout",
     "output_type": "stream",
     "text": [
      "0\n",
      "1\n",
      "2\n",
      "3\n",
      "4\n",
      "5\n"
     ]
    }
   ],
   "source": [
    "for numero in range(10):\n",
    "    if numero > 5:\n",
    "        break\n",
    "    print(numero)\n",
    "\n",
    "    "
   ]
  },
  {
   "cell_type": "markdown",
   "metadata": {},
   "source": [
    "#### 5. Recorre los números del 0 al 9 e imprime solo los números impares."
   ]
  },
  {
   "cell_type": "code",
   "execution_count": 9,
   "metadata": {},
   "outputs": [
    {
     "name": "stdout",
     "output_type": "stream",
     "text": [
      "1\n",
      "3\n",
      "5\n",
      "7\n",
      "9\n"
     ]
    }
   ],
   "source": [
    "for numero in range(10):\n",
    "    if numero % 2 == 0:\n",
    "        continue\n",
    "    print(numero)"
   ]
  },
  {
   "cell_type": "markdown",
   "metadata": {},
   "source": [
    "#### 6. Dada la lista `[10, 20, 30, 40, 50]`, calcula la suma de todos los elementos usando un bucle `for`."
   ]
  },
  {
   "cell_type": "code",
   "execution_count": 11,
   "metadata": {},
   "outputs": [
    {
     "name": "stdout",
     "output_type": "stream",
     "text": [
      "150\n"
     ]
    }
   ],
   "source": [
    "lista = [10,20,30,40,50]\n",
    "\n",
    "suma = 0\n",
    "for numero in lista:\n",
    "    suma += numero\n",
    "print(suma)\n",
    "    "
   ]
  },
  {
   "cell_type": "markdown",
   "metadata": {},
   "source": [
    "#### 7. Dada la cadena `\"Hola mundo\"`, cuenta cuántas veces aparecen las vocales (`a`, `e`, `i`, `o`, `u`) usando un bucle `for`.\n"
   ]
  },
  {
   "cell_type": "code",
   "execution_count": 16,
   "metadata": {},
   "outputs": [
    {
     "name": "stdout",
     "output_type": "stream",
     "text": [
      "4\n"
     ]
    }
   ],
   "source": [
    "cadena = 'Hola Mundo'\n",
    "vocales = ['a', 'e', 'i', 'o', 'u']\n",
    "cantidad_vocales = 0\n",
    "for letter in cadena:\n",
    "    if letter in vocales:\n",
    "        cantidad_vocales += 1\n",
    "print(cantidad_vocales)"
   ]
  },
  {
   "cell_type": "markdown",
   "metadata": {},
   "source": [
    "#### 8. Dada la cadena `\"Python\"`, usa un bucle `for` para imprimir los caracteres en orden inverso (`n`, `o`, `h`, `t`, `y`, `P`).\n"
   ]
  },
  {
   "cell_type": "code",
   "execution_count": 19,
   "metadata": {},
   "outputs": [
    {
     "name": "stdout",
     "output_type": "stream",
     "text": [
      "n\n",
      "o\n",
      "h\n",
      "t\n",
      "y\n",
      "P\n"
     ]
    }
   ],
   "source": [
    "for letra in reversed(cadena):\n",
    "    \n",
    "    print(letra)"
   ]
  },
  {
   "cell_type": "markdown",
   "metadata": {},
   "source": [
    "#### 9. Dada la lista `[1, 2, 3, 4, 5]`, multiplica todos sus elementos usando un bucle `for` y almacena los resultados en una lista nueva. \n"
   ]
  },
  {
   "cell_type": "code",
   "execution_count": 21,
   "metadata": {},
   "outputs": [
    {
     "name": "stdout",
     "output_type": "stream",
     "text": [
      "[1, 4, 9, 16, 25]\n"
     ]
    }
   ],
   "source": [
    "lista = [1, 2, 3, 4, 5]\n",
    "lista_multiplicada = []\n",
    "\n",
    "for numero in lista:\n",
    "    lista_multiplicada.append(numero * numero)\n",
    "\n",
    "print(lista_multiplicada)"
   ]
  },
  {
   "cell_type": "markdown",
   "metadata": {},
   "source": [
    "#### 10. Dada la lista `[1, 2, 3, 4, 5, 6, 7, 8, 9, 10]`, utiliza un bucle `for` para contar cuántos números son pares y cuántos son impares."
   ]
  },
  {
   "cell_type": "code",
   "execution_count": 17,
   "metadata": {},
   "outputs": [
    {
     "name": "stdout",
     "output_type": "stream",
     "text": [
      "cantidad de pares: 5\n",
      "cantidad de impares: 5\n"
     ]
    }
   ],
   "source": [
    "lista = [1, 2, 3, 4, 5, 6, 7, 8, 9, 10]\n",
    "pares = 0\n",
    "impares = 0\n",
    "for num in lista : \n",
    "    if num % 2 == 0:\n",
    "        pares += 1\n",
    "    else:\n",
    "        impares += 1\n",
    "print(f\"cantidad de pares: {pares}\")\n",
    "print(f\"cantidad de impares: {impares}\")"
   ]
  },
  {
   "cell_type": "markdown",
   "metadata": {},
   "source": [
    "#### 11. Escribe un programa que solicite al usuario un número entero positivo (`n`) y calcule la suma de todos los números primos menores o iguales a `n`. Utiliza un bucle `for` para iterar sobre cada número y verifica si es primo."
   ]
  },
  {
   "cell_type": "code",
   "execution_count": 25,
   "metadata": {},
   "outputs": [
    {
     "name": "stdout",
     "output_type": "stream",
     "text": [
      "El numero ingresado no es primo\n"
     ]
    }
   ],
   "source": [
    "n = int(input(\"Ingrese un numero entero positivo: \"))\n",
    "\n",
    "if n < 1 :\n",
    "    print(\"El numero ingresado no es valido, es negativo o cero\")\n",
    "if n < 2 : \n",
    "    print(\"El numero ingresado no es primo\")\n",
    "if n == 2 : \n",
    "    print(\"El numero ingresado es 2 y es primo\")\n",
    "\n",
    "    print(\"El numero ingresado es primo\")\n",
    "for i in range (2, int(n**0.5) + 1):\n",
    "    if n % i == 0:\n",
    "        print(\"El numero ingresado no es primo\")\n",
    "    else :\n",
    "        print(\"El numero ingresado es primo\")\n",
    "        break\n",
    "   "
   ]
  },
  {
   "cell_type": "markdown",
   "metadata": {},
   "source": [
    "#### 12. Escribe un programa que solicite al usuario un número entero positivo (`n`) y luego imprima un patrón de asteriscos como el siguiente ejemplo para `n = 5`:\n",
    "```\n",
    "*\n",
    "**\n",
    "***\n",
    "****\n",
    "*****\n",
    "```\n",
    "Utiliza un bucle `for` anidado para controlar la cantidad de asteriscos en cada línea."
   ]
  },
  {
   "cell_type": "code",
   "execution_count": 33,
   "metadata": {},
   "outputs": [
    {
     "name": "stdout",
     "output_type": "stream",
     "text": [
      "*\n",
      "**\n",
      "***\n"
     ]
    }
   ],
   "source": [
    "n = int(input(\"Ingrese un numero entero positivo: \"))\n",
    "\n",
    "for i in range(1, n + 1):\n",
    "    for j in range(i):\n",
    "        print('*', end='')\n",
    "    print()\n",
    "## el end es para q no salte la linea y el print es para q cuando sea la segunda vuwlta de i haga un salto\n"
   ]
  },
  {
   "cell_type": "markdown",
   "metadata": {},
   "source": [
    "#### 13. Dado un texto, utiliza un bucle `for` para contar cuántas veces aparece cada palabra en el texto. Ignora mayúsculas/minúsculas y los signos de puntuación."
   ]
  },
  {
   "cell_type": "code",
   "execution_count": 36,
   "metadata": {},
   "outputs": [
    {
     "name": "stdout",
     "output_type": "stream",
     "text": [
      "decidi: 1\n",
      "reparar: 1\n",
      "mi: 1\n",
      "sofa: 6\n",
      "porque: 1\n",
      "el: 4\n",
      "estaba: 1\n",
      "muy: 1\n",
      "desgastado: 1\n",
      "compre: 1\n",
      "tela: 2\n",
      "nueva: 2\n",
      "espuma: 2\n",
      "para: 1\n",
      "cojin: 2\n",
      "y: 3\n",
      "una: 1\n",
      "grapadora: 2\n",
      "quite: 1\n",
      "la: 4\n",
      "vieja: 1\n",
      "del: 3\n",
      "fije: 1\n",
      "con: 1\n",
      "tambien: 1\n",
      "reemplace: 1\n",
      "despues: 1\n",
      "de: 2\n",
      "unas: 1\n",
      "horas: 1\n",
      "quedo: 1\n",
      "como: 1\n",
      "nuevo: 1\n",
      "me: 1\n",
      "senti: 1\n",
      "satisfecho: 1\n",
      "haber: 1\n",
      "reparado: 1\n",
      "yo: 1\n",
      "mismo: 1\n"
     ]
    }
   ],
   "source": [
    "import re\n",
    "from collections import Counter\n",
    "\n",
    "texto = \"Decidí reparar mi sofá porque el sofá estaba muy desgastado. Compré tela nueva, espuma para el cojín y una grapadora. Quité la tela vieja del sofá y fijé la nueva con la grapadora. También reemplacé la espuma del cojín del sofá. Después de unas horas, el sofá quedó como nuevo y me sentí satisfecho de haber reparado el sofá yo mismo.\"\n",
    "# Convertir el texto a minúsculas y eliminar signos de puntuación\n",
    "texto_limpio = ''.join(char.lower() if char.isalnum() or char.isspace() else '' for char in texto)\n",
    "\n",
    "# Dividir el texto en palabras\n",
    "palabras = texto_limpio.split()\n",
    "\n",
    "# Contar las palabras\n",
    "contador_palabras = Counter(palabras)\n",
    "\n",
    "# Imprimir el resultado\n",
    "for palabra, cantidad in contador_palabras.items():\n",
    "    print(f\"{palabra}: {cantidad}\")"
   ]
  },
  {
   "cell_type": "markdown",
   "metadata": {},
   "source": [
    "#### 14. Escribe un programa que solicite al usuario dos números enteros positivos (`inicio` y `fin`, donde `inicio <= fin`) y luego calcule la suma de los números pares y la suma de los números impares en ese rango. Utiliza un bucle `for` para iterar sobre cada número y una estructura `if-else` para clasificar y sumar los números pares e impares."
   ]
  },
  {
   "cell_type": "code",
   "execution_count": 37,
   "metadata": {},
   "outputs": [
    {
     "name": "stdout",
     "output_type": "stream",
     "text": [
      "La suma de los numeros pares es: 110\n",
      "La suma de los numeros impares es: 100\n"
     ]
    }
   ],
   "source": [
    "num_inicio = input(\"Ingrese un numero entero positivo para empezar: \")\n",
    "num_final = input(\"Ingrese un numero entero positivo para el final mayor al anterior: \")\n",
    "pares_sum = 0\n",
    "impares_sum = 0 \n",
    "\n",
    "for i in range(int(num_inicio), int(num_final) + 1):\n",
    "    if i % 2 == 0:\n",
    "        pares_sum += i\n",
    "    else:\n",
    "        impares_sum += i\n",
    "print(f\"La suma de los numeros pares es: {pares_sum}\")\n",
    "print(f\"La suma de los numeros impares es: {impares_sum}\")\n",
    "\n",
    "        "
   ]
  },
  {
   "cell_type": "markdown",
   "metadata": {},
   "source": [
    "#### 15. Escribe un programa que solicite al usuario un número entero positivo (`n`) y luego identifique todos los números primos menores o iguales a `n`. Para cada número, imprime si es primo o no usando un bucle `for` y una estructura `if-else` para verificar la condición de primalidad."
   ]
  },
  {
   "cell_type": "code",
   "execution_count": 39,
   "metadata": {},
   "outputs": [
    {
     "name": "stdout",
     "output_type": "stream",
     "text": [
      "1 no es primo\n",
      "2 es primo\n",
      "3 es primo\n",
      "4 no es primo\n",
      "5 es primo\n",
      "6 no es primo\n",
      "7 es primo\n",
      "8 no es primo\n",
      "9 no es primo\n",
      "10 no es primo\n",
      "11 es primo\n",
      "12 no es primo\n",
      "13 es primo\n",
      "14 no es primo\n",
      "15 no es primo\n",
      "16 no es primo\n",
      "17 es primo\n",
      "18 no es primo\n",
      "19 es primo\n",
      "20 no es primo\n",
      "21 no es primo\n",
      "22 no es primo\n",
      "23 es primo\n",
      "24 no es primo\n",
      "25 no es primo\n",
      "26 no es primo\n",
      "27 no es primo\n",
      "28 no es primo\n",
      "29 es primo\n",
      "30 no es primo\n",
      "31 es primo\n",
      "32 no es primo\n",
      "33 no es primo\n",
      "34 no es primo\n",
      "35 no es primo\n",
      "36 no es primo\n",
      "37 es primo\n",
      "38 no es primo\n",
      "39 no es primo\n",
      "40 no es primo\n",
      "41 es primo\n",
      "42 no es primo\n",
      "43 es primo\n",
      "44 no es primo\n",
      "45 no es primo\n",
      "46 no es primo\n",
      "47 es primo\n",
      "48 no es primo\n",
      "49 no es primo\n",
      "50 no es primo\n",
      "51 no es primo\n",
      "52 no es primo\n",
      "53 es primo\n",
      "54 no es primo\n",
      "55 no es primo\n",
      "56 no es primo\n",
      "57 no es primo\n",
      "58 no es primo\n",
      "59 es primo\n",
      "60 no es primo\n",
      "61 es primo\n",
      "62 no es primo\n",
      "63 no es primo\n",
      "64 no es primo\n",
      "65 no es primo\n",
      "66 no es primo\n",
      "67 es primo\n",
      "68 no es primo\n",
      "69 no es primo\n",
      "70 no es primo\n",
      "71 es primo\n",
      "72 no es primo\n",
      "73 es primo\n",
      "74 no es primo\n",
      "75 no es primo\n",
      "76 no es primo\n",
      "77 no es primo\n",
      "78 no es primo\n",
      "79 es primo\n",
      "80 no es primo\n",
      "81 no es primo\n",
      "82 no es primo\n",
      "83 es primo\n",
      "84 no es primo\n",
      "85 no es primo\n",
      "86 no es primo\n",
      "87 no es primo\n",
      "88 no es primo\n",
      "89 es primo\n",
      "90 no es primo\n",
      "91 no es primo\n",
      "92 no es primo\n",
      "93 no es primo\n",
      "94 no es primo\n",
      "95 no es primo\n",
      "96 no es primo\n",
      "97 es primo\n",
      "98 no es primo\n",
      "99 no es primo\n",
      "100 no es primo\n"
     ]
    }
   ],
   "source": [
    "num_inicio = input(\"Ingrese un numero entero positivo: \")\n",
    "\n",
    "for i in range(1, int(num_inicio) + 1):\n",
    "    es_primo = True\n",
    "    if i < 2:\n",
    "        es_primo = False\n",
    "    else:\n",
    "        for j in range(2, int(i**0.5) + 1):\n",
    "            if i % j == 0:\n",
    "                es_primo = False\n",
    "                break\n",
    "    if es_primo:\n",
    "        print(f\"{i} es primo\")\n",
    "    else:\n",
    "        print(f\"{i} no es primo\")\n"
   ]
  },
  {
   "cell_type": "markdown",
   "metadata": {},
   "source": [
    "#### 16.Dada una lista de precios `[100, 200, 300, 400, 500]`, aplica un descuento del 10% a todos los precios mayores a `250`. Imprime la lista actualizada de precios después de aplicar el descuento utilizando un bucle `for`. "
   ]
  },
  {
   "cell_type": "code",
   "execution_count": 53,
   "metadata": {},
   "outputs": [
    {
     "name": "stdout",
     "output_type": "stream",
     "text": [
      "[100, 200, 270, 360, 450]\n"
     ]
    }
   ],
   "source": [
    "\n",
    "\n",
    "lista_de_precios = [100, 200, 300, 400, 500]\n",
    "lista_con_10 = []\n",
    "\n",
    "for precio in lista_de_precios:\n",
    "    precio_nuevo = precio\n",
    "    if precio > 250:\n",
    "        precio_nuevo =  int(precio * 0.9)\n",
    "    lista_con_10.append(precio_nuevo)\n",
    "print(lista_con_10)\n"
   ]
  },
  {
   "cell_type": "markdown",
   "metadata": {},
   "source": [
    "#### 17. Dada una lista de calificaciones de estudiantes `[85, 92, 78, 90, 88]`, clasifica a cada estudiante como \"Aprobado\" si la calificación es mayor o igual a `80` y como \"Reprobado\" si es menor a `80`. Imprime el nombre de cada estudiante junto con su estado utilizando un bucle `for` y una estructura `if-else`.\n"
   ]
  },
  {
   "cell_type": "code",
   "execution_count": 54,
   "metadata": {},
   "outputs": [
    {
     "name": "stdout",
     "output_type": "stream",
     "text": [
      "Juan : Reprobado\n",
      "Maria : Aprobado\n",
      "Pedro : Reprobado\n",
      "Ana : Aprobado\n",
      "Luis : Reprobado\n"
     ]
    }
   ],
   "source": [
    "lista = [85, 92, 78, 90, 88]\n",
    "## no tengo los nombres asique creo ubna lista de nombres\n",
    "lista_nombres = ['Juan', 'Maria', 'Pedro', 'Ana', 'Luis']\n",
    "\n",
    "for i in range(len(lista)):\n",
    "    if lista[i] >= 90:\n",
    "        print(f\"{lista_nombres[i]} : Aprobado\")\n",
    "    else:\n",
    "        print(f\"{lista_nombres[i]} : Reprobado\")\n"
   ]
  },
  {
   "cell_type": "markdown",
   "metadata": {},
   "source": [
    "\n",
    "#### 18. Escribe un programa que solicite al usuario dos números enteros positivos (`inicio`, `fin`) y otro número entero positivo (`divisor`). Encuentra el número más grande en el rango desde `inicio` hasta `fin` que sea divisible por `divisor`. Utiliza un bucle `for` y una estructura `if-else` para verificar y mantener el registro del número más grande divisible por el divisor dado.\n"
   ]
  },
  {
   "cell_type": "code",
   "execution_count": 61,
   "metadata": {},
   "outputs": [
    {
     "name": "stdout",
     "output_type": "stream",
     "text": [
      "El número más grande en el rango que es divisible por 2 es: 38\n"
     ]
    }
   ],
   "source": [
    "inicio = int(input(\"Ingrese el número entero positivo de inicio: \"))\n",
    "fin = int(input(\"Ingrese el número entero positivo de fin: \"))\n",
    "divisor = int(input(\"Ingrese el número entero positivo divisor: \"))\n",
    "max_divisible = None\n",
    "\n",
    "for num in range(inicio, fin + 1):\n",
    "    if num % divisor == 0:\n",
    "        max_divisible = num\n",
    "\n",
    "if max_divisible is not None:\n",
    "    print(f\"El número más grande en el rango que es divisible por {divisor} es: {max_divisible}\")\n",
    "else:\n",
    "    print(f\"No hay números en el rango que sean divisibles por {divisor}\")"
   ]
  }
 ],
 "metadata": {
  "kernelspec": {
   "display_name": "hackio",
   "language": "python",
   "name": "python3"
  },
  "language_info": {
   "codemirror_mode": {
    "name": "ipython",
    "version": 3
   },
   "file_extension": ".py",
   "mimetype": "text/x-python",
   "name": "python",
   "nbconvert_exporter": "python",
   "pygments_lexer": "ipython3",
   "version": "3.11.1"
  }
 },
 "nbformat": 4,
 "nbformat_minor": 2
}
