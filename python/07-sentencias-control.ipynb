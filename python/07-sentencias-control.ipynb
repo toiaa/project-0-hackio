{
 "cells": [
  {
   "cell_type": "markdown",
   "metadata": {},
   "source": [
    "<div style=\"text-align: center;\">\n",
    "  <img src=\"https://github.com/Hack-io-Data/Imagenes/blob/main/01-LogosHackio/logo_celeste@4x.png?raw=true\" alt=\"logo hack(io)\" />\n",
    "</div>"
   ]
  },
  {
   "cell_type": "markdown",
   "metadata": {},
   "source": [
    "#### 1. Escribe un programa que determine si un número es par o impar.\n",
    "\n"
   ]
  },
  {
   "cell_type": "code",
   "execution_count": 2,
   "metadata": {},
   "outputs": [
    {
     "name": "stdout",
     "output_type": "stream",
     "text": [
      "El número 3 es impar.\n"
     ]
    }
   ],
   "source": [
    "\n",
    "numero = int(input(\"Introduce un número: \"))\n",
    "if numero % 2 == 0:\n",
    "    print(f\"El número {numero} es par.\")\n",
    "else:\n",
    "    print(f\"El número {numero} es impar.\")"
   ]
  },
  {
   "cell_type": "markdown",
   "metadata": {},
   "source": [
    "#### 2. Genera un programa que nos diga si es de noche, de día o tarde según la hora proporcionada por el usuario."
   ]
  },
  {
   "cell_type": "code",
   "execution_count": 4,
   "metadata": {},
   "outputs": [
    {
     "name": "stdout",
     "output_type": "stream",
     "text": [
      "Es tarde.\n"
     ]
    }
   ],
   "source": [
    "hora = int(input(\"Introduce la hora (00-23): \"))\n",
    "\n",
    "if 0 <= hora < 6:\n",
    "    print(\"Es de noche\")\n",
    "elif 6 <= hora < 12:\n",
    "    print(\"Es de día\")\n",
    "elif 12 <= hora < 18:\n",
    "    print(\"Es la tarde\")\n",
    "elif 18 <= hora < 24:\n",
    "    print(\"Es de noche\")\n",
    "else:\n",
    "    print(\"Hora no válida.\")"
   ]
  },
  {
   "cell_type": "markdown",
   "metadata": {},
   "source": [
    "#### 3. Dado un nombre imprime un saludo personalizado."
   ]
  },
  {
   "cell_type": "code",
   "execution_count": 9,
   "metadata": {},
   "outputs": [
    {
     "name": "stdout",
     "output_type": "stream",
     "text": [
      "Hola toia soy un robot muy simpático.\n"
     ]
    }
   ],
   "source": [
    "nombre = input(\"Introduce tu nombre: \")\n",
    "\n",
    "print(\"Hola\", nombre, \"soy un robot muy simpático.\")\n"
   ]
  },
  {
   "cell_type": "markdown",
   "metadata": {},
   "source": [
    "#### 4. Escribe un programa que determine qué calificación en texto tiene un alumno en base a su calificación numérica. Las reglas de calificación son: \n",
    "\n",
    "- 0 - 69 insuficiente\n",
    "\n",
    "- 70 - 79 bien\n",
    "\n",
    "- 80 - 89 muy bien\n",
    "\n",
    "- 90 - 100 excelente\n"
   ]
  },
  {
   "cell_type": "code",
   "execution_count": 14,
   "metadata": {},
   "outputs": [
    {
     "name": "stdout",
     "output_type": "stream",
     "text": [
      "excelente\n"
     ]
    }
   ],
   "source": [
    "calificacion = float(input(\"Introduce tu calificación: \"))\n",
    "\n",
    "if calificacion <= 69:\n",
    "    print(\"insuficiente\")\n",
    "elif calificacion >= 70 and calificacion <= 79:\n",
    "    print(\"bien\")\n",
    "elif calificacion >= 80 and calificacion <= 89:\n",
    "    print(\"muy bien\")\n",
    "elif calificacion >= 90 and calificacion <= 100:\n",
    "    print(\"excelente\")"
   ]
  },
  {
   "cell_type": "markdown",
   "metadata": {},
   "source": [
    "#### 5. Escribe un programa que imprima el día de la semana, dado un número del 1 al 7.\n"
   ]
  },
  {
   "cell_type": "code",
   "execution_count": 21,
   "metadata": {},
   "outputs": [
    {
     "name": "stdout",
     "output_type": "stream",
     "text": [
      "Domingo\n"
     ]
    }
   ],
   "source": [
    "dia = int(input(\"Introduce un número de día de la semana: \"))\n",
    "if dia == 1:\n",
    "    print(\"Lunes\")\n",
    "elif dia == 2:\n",
    "    print(\"Martes\")\n",
    "elif dia == 3:\n",
    "    print(\"Miércoles\")\n",
    "elif dia == 4:\n",
    "    print(\"Jueves\")\n",
    "elif dia == 5:\n",
    "    print(\"Viernes\")\n",
    "elif dia == 6:\n",
    "    print(\"Sábado\")\n",
    "elif dia == 7:\n",
    "    print(\"Domingo\")\n",
    "else: \n",
    "    print(\"Número de día incorrecto.\")"
   ]
  },
  {
   "cell_type": "markdown",
   "metadata": {},
   "source": [
    "#### 6. Escribe un programa que determine si un número es positivo, negativo o cero."
   ]
  },
  {
   "cell_type": "code",
   "execution_count": 27,
   "metadata": {},
   "outputs": [
    {
     "name": "stdout",
     "output_type": "stream",
     "text": [
      "El número 0 es cero.\n"
     ]
    }
   ],
   "source": [
    "given_number = int(input(\"Introduce un número: \"))\n",
    "\n",
    "if given_number > 0:\n",
    "    print(f\"El número {given_number} es positivo.\")\n",
    "elif given_number < 0:\n",
    "    print(f\"El número {given_number} es negativo.\")\n",
    "else:\n",
    "    print(f\"El número {given_number} es cero.\")"
   ]
  },
  {
   "cell_type": "markdown",
   "metadata": {},
   "source": [
    "#### 7. Escribe un programa que determine si una persona puede conducir o no. La edad mínima para conducir es 18 años. \n"
   ]
  },
  {
   "cell_type": "code",
   "execution_count": 29,
   "metadata": {},
   "outputs": [
    {
     "name": "stdout",
     "output_type": "stream",
     "text": [
      "Eres menor de edad, no puedes conducir.\n"
     ]
    }
   ],
   "source": [
    "age = int(input(\"Introduce tu edad: \"))\n",
    "\n",
    "if age < 18:\n",
    "    print(\"Eres menor de edad, no puedes conducir.\")\n",
    "else: \n",
    "    print(\"Eres mayor de edad, puedes conducir.\")"
   ]
  },
  {
   "cell_type": "markdown",
   "metadata": {},
   "source": [
    "#### 8. Escribe un programa que determine si un estudiante aprobó o suspendió un examen."
   ]
  },
  {
   "cell_type": "code",
   "execution_count": 31,
   "metadata": {},
   "outputs": [
    {
     "name": "stdout",
     "output_type": "stream",
     "text": [
      "Aprobado\n"
     ]
    }
   ],
   "source": [
    "examen_final = float(input(\"Introduce la calificación de tu examen final: \"))\n",
    "\n",
    "if examen_final >= 4:\n",
    "    print(\"Aprobado\")\n",
    "else: \n",
    "    print(\"Reprobado\")"
   ]
  },
  {
   "cell_type": "markdown",
   "metadata": {},
   "source": [
    "#### 9. Escribe un programa que determine si un número es múltiplo de 3 y 5.\n"
   ]
  },
  {
   "cell_type": "code",
   "execution_count": 40,
   "metadata": {},
   "outputs": [
    {
     "name": "stdout",
     "output_type": "stream",
     "text": [
      "El número no es multiplo de 3 ni de 5.\n"
     ]
    }
   ],
   "source": [
    "num = int(input(\"Introduce un número: \"))\n",
    "if num % 3 == 0 and num % 5 == 0:\n",
    "    print(\"El número es multiplo de 3 y de 5.\")\n",
    "elif num % 3 == 0:\n",
    "    print(\"El número es multiplo de 3.\")\n",
    "elif num % 5 == 0:\n",
    "    print(\"El número es multiplo de 5.\")\n",
    "else:\n",
    "    print(\"El número no es multiplo de 3 ni de 5.\")"
   ]
  },
  {
   "cell_type": "markdown",
   "metadata": {},
   "source": [
    "#### 10. Escribe un programa que determine si un número es par o impar.\n"
   ]
  },
  {
   "cell_type": "code",
   "execution_count": 42,
   "metadata": {},
   "outputs": [
    {
     "name": "stdout",
     "output_type": "stream",
     "text": [
      "El número es impar.\n"
     ]
    }
   ],
   "source": [
    "num = int(input(\"Introduce un número: \"))\n",
    "\n",
    "if num % 2 == 0:\n",
    "    print(\"El número es par.\")\n",
    "else:\n",
    "    print(\"El número es impar.\")"
   ]
  }
 ],
 "metadata": {
  "kernelspec": {
   "display_name": "hackio",
   "language": "python",
   "name": "python3"
  },
  "language_info": {
   "codemirror_mode": {
    "name": "ipython",
    "version": 3
   },
   "file_extension": ".py",
   "mimetype": "text/x-python",
   "name": "python",
   "nbconvert_exporter": "python",
   "pygments_lexer": "ipython3",
   "version": "3.11.1"
  }
 },
 "nbformat": 4,
 "nbformat_minor": 2
}
