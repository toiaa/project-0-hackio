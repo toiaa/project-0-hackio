{
 "cells": [
  {
   "cell_type": "markdown",
   "metadata": {},
   "source": [
    "<div style=\"text-align: center;\">\n",
    "  <img src=\"https://github.com/Hack-io-Data/Imagenes/blob/main/01-LogosHackio/logo_celeste@4x.png?raw=true\" alt=\"esquema\" />\n",
    "</div>"
   ]
  },
  {
   "cell_type": "markdown",
   "metadata": {},
   "source": [
    "\n",
    "#### Genera un dicionario con los nombres, apellidos y empresas de la siguinete lista de correos. \n",
    "\n",
    "Te deberá quedar un diccionario parecido al que se muestra a continuación: \n",
    "\n",
    "![resultado](https://github.com/Hack-io-Data/Imagenes/blob/main/04-Prework/Python/diccionario-bonus-strings.png?raw=true)"
   ]
  },
  {
   "cell_type": "code",
   "execution_count": 4,
   "metadata": {},
   "outputs": [
    {
     "name": "stdout",
     "output_type": "stream",
     "text": [
      "{'john.doe@tecnologiainnovadora.com': {'nombre': 'john', 'apellido': 'doe', 'empresa': 'tecnologiainnovadora'}, 'jane.doe@empresatecnologica.com': {'nombre': 'jane', 'apellido': 'doe', 'empresa': 'empresatecnologica'}, 'jim.smith@solucionesdigitales.com': {'nombre': 'jim', 'apellido': 'smith', 'empresa': 'solucionesdigitales'}, 'mary.jane@tecnologiapionera.com': {'nombre': 'mary', 'apellido': 'jane', 'empresa': 'tecnologiapionera'}, 'bob.jones@innovaciontecnologica.com': {'nombre': 'bob', 'apellido': 'jones', 'empresa': 'innovaciontecnologica'}, 'alice.smith@desarrollotecnologico.com': {'nombre': 'alice', 'apellido': 'smith', 'empresa': 'desarrollotecnologico'}, 'tom.jones@tecnologiadinamica.com': {'nombre': 'tom', 'apellido': 'jones', 'empresa': 'tecnologiadinamica'}, 'sally.jones@tecnologiamoderna.com': {'nombre': 'sally', 'apellido': 'jones', 'empresa': 'tecnologiamoderna'}, 'jerry.smith@solucionestech.com': {'nombre': 'jerry', 'apellido': 'smith', 'empresa': 'solucionestech'}, 'beth.jones@tecnologiavanguardista.com': {'nombre': 'beth', 'apellido': 'jones', 'empresa': 'tecnologiavanguardista'}, 'john.smith@tecnologiasavanzadas.com': {'nombre': 'john', 'apellido': 'smith', 'empresa': 'tecnologiasavanzadas'}, 'jane.doe@empresadigital.com': {'nombre': 'jane', 'apellido': 'doe', 'empresa': 'empresadigital'}, 'jim.jones@tecnologiadinamica.com': {'nombre': 'jim', 'apellido': 'jones', 'empresa': 'tecnologiadinamica'}, 'mary.smith@innovaciondigital.com': {'nombre': 'mary', 'apellido': 'smith', 'empresa': 'innovaciondigital'}, 'bob.doe@solucionesinformaticas.com': {'nombre': 'bob', 'apellido': 'doe', 'empresa': 'solucionesinformaticas'}}\n"
     ]
    }
   ],
   "source": [
    "a = \"\"\"john.doe@tecnologiainnovadora.com\n",
    "jane.doe@empresatecnologica.com\n",
    "jim.smith@solucionesdigitales.com\n",
    "mary.jane@tecnologiapionera.com\n",
    "bob.jones@innovaciontecnologica.com\n",
    "alice.smith@desarrollotecnologico.com\n",
    "tom.jones@tecnologiadinamica.com\n",
    "sally.jones@tecnologiamoderna.com\n",
    "jerry.smith@solucionestech.com\n",
    "beth.jones@tecnologiavanguardista.com\n",
    "john.smith@tecnologiasavanzadas.com\n",
    "jane.doe@empresadigital.com\n",
    "jim.jones@tecnologiadinamica.com\n",
    "mary.smith@innovaciondigital.com\n",
    "bob.doe@solucionesinformaticas.com\n",
    "\"\"\"\n",
    "emails = a.split('\\n')\n",
    "email_diccionario = {}\n",
    "\n",
    "for email in emails:\n",
    "    if email:\n",
    "        nombre, dominio = email.split('@')\n",
    "        nombre, apellido = nombre.split('.')\n",
    "        empresa = dominio.split('.')[0]\n",
    "        email_diccionario[email] = {'nombre': nombre, 'apellido': apellido, 'empresa': empresa}\n",
    "\n",
    "print(email_diccionario)"
   ]
  }
 ],
 "metadata": {
  "kernelspec": {
   "display_name": "hackio",
   "language": "python",
   "name": "python3"
  },
  "language_info": {
   "codemirror_mode": {
    "name": "ipython",
    "version": 3
   },
   "file_extension": ".py",
   "mimetype": "text/x-python",
   "name": "python",
   "nbconvert_exporter": "python",
   "pygments_lexer": "ipython3",
   "version": "3.11.1"
  }
 },
 "nbformat": 4,
 "nbformat_minor": 2
}
