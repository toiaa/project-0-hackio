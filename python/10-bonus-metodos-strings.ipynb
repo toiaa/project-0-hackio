{
 "cells": [
  {
   "cell_type": "markdown",
   "metadata": {},
   "source": [
    "<div style=\"text-align: center;\">\n",
    "  <img src=\"https://github.com/Hack-io-Data/Imagenes/blob/main/01-LogosHackio/logo_celeste@4x.png?raw=true\" alt=\"esquema\" />\n",
    "</div>"
   ]
  },
  {
   "cell_type": "markdown",
   "metadata": {},
   "source": [
    "\n",
    "#### Genera un dicionario con los nombres, apellidos y empresas de la siguinete lista de correos. \n",
    "\n",
    "Te deberá quedar un diccionario parecido al que se muestra a continuación: \n",
    "\n",
    "![resultado](https://github.com/Hack-io-Data/Imagenes/blob/main/04-Prework/Python/diccionario-bonus-strings.png?raw=true)"
   ]
  },
  {
   "cell_type": "code",
   "execution_count": 3,
   "metadata": {},
   "outputs": [
    {
     "name": "stdout",
     "output_type": "stream",
     "text": [
      "{'nombres': ['john', 'jane', 'jim', 'mary', 'bob', 'alice', 'tom', 'sally', 'jerry', 'beth'], 'apellidos': ['doe', 'smith', 'jane', 'jones'], 'empresa': ['tecnologiainnovadora', 'empresatecnologica', 'solucionesdigitales', 'tecnologiapionera', 'innovaciontecnologica', 'desarrollotecnologico', 'tecnologiadinamica', 'tecnologiamoderna', 'solucionestech', 'tecnologiavanguardista', 'tecnologiasavanzadas', 'empresadigital', 'innovaciondigital', 'solucionesinformaticas']}\n"
     ]
    }
   ],
   "source": [
    "a = \"\"\"john.doe@tecnologiainnovadora.com\n",
    "jane.doe@empresatecnologica.com\n",
    "jim.smith@solucionesdigitales.com\n",
    "mary.jane@tecnologiapionera.com\n",
    "bob.jones@innovaciontecnologica.com\n",
    "alice.smith@desarrollotecnologico.com\n",
    "tom.jones@tecnologiadinamica.com\n",
    "sally.jones@tecnologiamoderna.com\n",
    "jerry.smith@solucionestech.com\n",
    "beth.jones@tecnologiavanguardista.com\n",
    "john.smith@tecnologiasavanzadas.com\n",
    "jane.doe@empresadigital.com\n",
    "jim.jones@tecnologiadinamica.com\n",
    "mary.smith@innovaciondigital.com\n",
    "bob.doe@solucionesinformaticas.com\n",
    "\"\"\"\n",
    "\n",
    "emails = a.split('\\n')\n",
    "email_diccionario = {}\n",
    "\n",
    "for email in emails:\n",
    "    if email:\n",
    "        nombre, dominio = email.split('@')\n",
    "        nombre, apellido = nombre.split('.')\n",
    "        empresa = dominio.split('.')[0]\n",
    "        \n",
    "        if 'nombres' not in email_diccionario:\n",
    "            email_diccionario['nombres'] = []\n",
    "        if 'apellidos' not in email_diccionario:\n",
    "            email_diccionario['apellidos'] = []\n",
    "        if 'empresa' not in email_diccionario:\n",
    "            email_diccionario['empresa'] = []\n",
    "        \n",
    "        if nombre not in email_diccionario['nombres']: email_diccionario['nombres'].append(nombre)\n",
    "        if apellido not in email_diccionario['apellidos']: email_diccionario['apellidos'].append(apellido)\n",
    "        if empresa not in email_diccionario['empresa']: email_diccionario['empresa'].append(empresa)\n",
    "\n",
    "\n",
    "\n",
    "print(email_diccionario)"
   ]
  }
 ],
 "metadata": {
  "kernelspec": {
   "display_name": "hackio",
   "language": "python",
   "name": "python3"
  },
  "language_info": {
   "codemirror_mode": {
    "name": "ipython",
    "version": 3
   },
   "file_extension": ".py",
   "mimetype": "text/x-python",
   "name": "python",
   "nbconvert_exporter": "python",
   "pygments_lexer": "ipython3",
   "version": "3.11.1"
  }
 },
 "nbformat": 4,
 "nbformat_minor": 2
}
